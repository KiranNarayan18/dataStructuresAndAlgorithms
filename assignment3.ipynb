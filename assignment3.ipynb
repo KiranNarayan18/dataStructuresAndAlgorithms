{
 "cells": [
  {
   "cell_type": "code",
   "execution_count": 2,
   "metadata": {},
   "outputs": [
    {
     "name": "stdout",
     "output_type": "stream",
     "text": [
      "2\n"
     ]
    }
   ],
   "source": [
    "# Given an integer array nums of length n and an integer target, find three integers in nums such that the sum is closest to the target.  Return the sum of the three integers.\n",
    "\n",
    "# You may assume that each input would have exactly one solution.\n",
    "from typing import List\n",
    "\n",
    "class Solution:\n",
    "    def threeSumClosest(self, nums: List[int], target: int) -> int:\n",
    "        nums.sort() \n",
    "        closet_sum = nums[0] + nums[1] + nums[2] \n",
    "        array_length=len(nums)\n",
    "        \n",
    "        for i in range(array_length-2):\n",
    "            left = i+1 \n",
    "            right = array_length-1\n",
    "\n",
    "            while left < right:\n",
    "\n",
    "                current_sum =nums[i] + nums[left] + nums[right] \n",
    "\n",
    "                if closet_sum == target:\n",
    "                    return closet_sum\n",
    "                \n",
    "                if abs(current_sum - target) < abs(closet_sum - target):       \n",
    "                    closet_sum = current_sum\n",
    "\n",
    "                if current_sum < target:\n",
    "                    left += 1\n",
    "\n",
    "                else:\n",
    "                    right -= 1\n",
    "\n",
    "            if closet_sum == target:\n",
    "                break\n",
    "\n",
    "        return closet_sum\n",
    "\n",
    "\n",
    "nums = [-1,2,1,-4]\n",
    "target = 1\n",
    "obj = Solution()\n",
    "result = obj.threeSumClosest(nums, target)\n",
    "print(result)"
   ]
  },
  {
   "cell_type": "code",
   "execution_count": 3,
   "metadata": {},
   "outputs": [
    {
     "name": "stdout",
     "output_type": "stream",
     "text": [
      "[[-2, -1, 1, 2], [-2, 0, 0, 2], [-1, 0, 0, 1]]\n"
     ]
    }
   ],
   "source": [
    "# Given an array nums of n integers, return an array of all the unique quadruplets [nums[a], nums[b], nums[c], nums[d]] such that:\n",
    "#     - 0 <= a, b, c, d < n\n",
    "#     - a, b, c, and d are distinct.\n",
    "#     - nums[a] + nums[b] + nums[c] + nums[d] == target\n",
    "\n",
    "# You may return the answer in any order.\n",
    "\n",
    "class Solution:\n",
    "    def fourSum(self, nums: List[int], target: int) -> List[List[int]]:\n",
    "        nums.sort()  # Sort the array to handle duplicates and for two-pointer technique\n",
    "        n = len(nums)\n",
    "        quadruplets = []\n",
    "\n",
    "        for i in range(n - 3):  # Fix the first element\n",
    "            if i > 0 and nums[i] == nums[i - 1]:\n",
    "                continue  # Skip duplicates\n",
    "\n",
    "            for j in range(i + 1, n - 2):  # Fix the second element\n",
    "                if j > i + 1 and nums[j] == nums[j - 1]:\n",
    "                    continue  # Skip duplicates\n",
    "\n",
    "                left = j + 1  # Initialize left pointer\n",
    "                right = n - 1  # Initialize right pointer\n",
    "\n",
    "                while left < right:  # Use two-pointer technique\n",
    "                    sum_ = nums[i] + nums[j] + nums[left] + nums[right]\n",
    "\n",
    "                    if sum_ == target:\n",
    "                        quadruplets.append([nums[i], nums[j], nums[left], nums[right]])\n",
    "\n",
    "                        while left < right and nums[left] == nums[left + 1]:\n",
    "                            left += 1  # Skip duplicates\n",
    "                        while left < right and nums[right] == nums[right - 1]:\n",
    "                            right -= 1  # Skip duplicates\n",
    "\n",
    "                        left += 1\n",
    "                        right -= 1\n",
    "                    elif sum_ < target:\n",
    "                        left += 1\n",
    "                    else:\n",
    "                        right -= 1\n",
    "\n",
    "        return quadruplets\n",
    "    \n",
    "\n",
    "\n",
    "nums = [1,0,-1,0,-2,2]\n",
    "target = 0\n",
    "obj = Solution()\n",
    "result = obj.fourSum(nums, target)\n",
    "print(result)\n"
   ]
  },
  {
   "cell_type": "code",
   "execution_count": 2,
   "metadata": {},
   "outputs": [
    {
     "name": "stdout",
     "output_type": "stream",
     "text": [
      "[1, 3, 2]\n"
     ]
    }
   ],
   "source": [
    "# A permutation of an array of integers is an arrangement of its members into a sequence or linear order.\n",
    "\n",
    "# For example, for arr = [1,2,3], the following are all the permutations of arr:\n",
    "# [1,2,3], [1,3,2], [2, 1, 3], [2, 3, 1], [3,1,2], [3,2,1].\n",
    "\n",
    "# The next permutation of an array of integers is the next lexicographically greater permutation of its integer. More formally, if all the permutations of the array are sorted in one container according to their lexicographical order, then the next permutation of that array is the permutation that follows it in the sorted container.\n",
    "\n",
    "# If such an arrangement is not possible, the array must be rearranged as the lowest possible order (i.e., sorted in ascending order).\n",
    "\n",
    "# ● For example, the next permutation of arr = [1,2,3] is [1,3,2].\n",
    "# ● Similarly, the next permutation of arr = [2,3,1] is [3,1,2].\n",
    "# ● While the next permutation of arr = [3,2,1] is [1,2,3] because [3,2,1] does not have a lexicographical larger rearrangement.\n",
    "\n",
    "# Given an array of integers nums, find the next permutation of nums. The replacement must be in place and use only constant extra memor\n",
    "from typing import List\n",
    "class Solution:\n",
    "    def nextPermutation(self, nums: List[int]) -> None:\n",
    "\n",
    "        n = len(nums)\n",
    "        index = n - 1\n",
    "        while index > 0 and nums[index-1] >= nums[index]:\n",
    "            index -= 1\n",
    "        if index > 0:\n",
    "            i = n - 1\n",
    "            while i > index-1 and nums[i] <= nums[index-1]:\n",
    "                i -= 1\n",
    "            nums[i], nums[index-1] = nums[index-1], nums[i]\n",
    "        n -= 1\n",
    "        while index < n:\n",
    "            nums[index], nums[n] = nums[n], nums[index]\n",
    "            index += 1\n",
    "\n",
    "nums = [1,2,3]\n",
    "obj = Solution()\n",
    "obj.nextPermutation(nums)\n",
    "print(nums)        \n",
    "            "
   ]
  },
  {
   "cell_type": "code",
   "execution_count": 7,
   "metadata": {},
   "outputs": [
    {
     "name": "stdout",
     "output_type": "stream",
     "text": [
      "2\n"
     ]
    }
   ],
   "source": [
    "# Given a sorted array of distinct integers and a target value, return the index if the target is found. If not, return the index where it would be if it were inserted in order.\n",
    "\n",
    "# You must write an algorithm with O(log n) runtime complexity.\n",
    "class Solution:\n",
    "    def searchInsert(self, nums: List[int], target: int) -> int:\n",
    "        left = 0\n",
    "        right = len(nums) - 1\n",
    "\n",
    "        while left <= right:\n",
    "            if nums[left] == target:\n",
    "                return left\n",
    "\n",
    "            elif nums[right] == target:\n",
    "                return right\n",
    "            \n",
    "            mid = (left + right) // 2\n",
    "            if nums[mid] == target:\n",
    "                return mid\n",
    "            elif nums[mid] < target:\n",
    "                left = mid + 1\n",
    "            else:\n",
    "                right = mid - 1 \n",
    "\n",
    "        return left\n",
    "\n",
    "\n",
    "nums = [1,3,5,6]\n",
    "target = 5\n",
    "obj = Solution()\n",
    "result = obj.searchInsert(nums, target)\n",
    "print(result)\n"
   ]
  },
  {
   "cell_type": "code",
   "execution_count": 8,
   "metadata": {},
   "outputs": [
    {
     "name": "stdout",
     "output_type": "stream",
     "text": [
      "[1, 2, 4]\n"
     ]
    }
   ],
   "source": [
    "# You are given a large integer represented as an integer array digits, where each digits[i] is the ith digit of the integer. The digits are ordered from most significant to least significant in left-to-right order. The large integer does not contain any leading 0's.\n",
    "\n",
    "# Increment the large integer by one and return the resulting array of digits.\n",
    "\n",
    "\n",
    "class solution:\n",
    "    def plusOne(self, intergerList:List) -> List:\n",
    "        stringVal = int(''.join(str(num) for num in intergerList)) + 1\n",
    "\n",
    "        return [int(i) for i in str(stringVal)]\n",
    "    \n",
    "digits = [1,2,3]\n",
    "obj = solution()\n",
    "result = obj.plusOne(digits)\n",
    "print(result) "
   ]
  },
  {
   "cell_type": "code",
   "execution_count": 10,
   "metadata": {},
   "outputs": [
    {
     "name": "stdout",
     "output_type": "stream",
     "text": [
      "1\n"
     ]
    }
   ],
   "source": [
    "# Given a non-empty array of integers nums, every element appears twice except for one. Find that single one.\n",
    "\n",
    "# You must implement a solution with a linear runtime complexity and use only constant extra space.\n",
    "\n",
    "class Solution:\n",
    "    def singleNumber(self, nums: List[int]) -> int:\n",
    "        result = 0\n",
    "        for num in nums:\n",
    "            result ^= num\n",
    "        return result\n",
    "        \n",
    "nums = [2,2,1]\n",
    "obj = Solution()\n",
    "result = obj.singleNumber(nums)\n",
    "print(result) "
   ]
  },
  {
   "cell_type": "code",
   "execution_count": 13,
   "metadata": {},
   "outputs": [
    {
     "name": "stdout",
     "output_type": "stream",
     "text": [
      "[[2], [4, 49], [51, 74], [76, 99]]\n"
     ]
    }
   ],
   "source": [
    "# You are given an inclusive range [lower, upper] and a sorted unique integer array nums, where all elements are within the inclusive range.\n",
    "\n",
    "# A number x is considered missing if x is in the range [lower, upper] and x is not in nums.\n",
    "\n",
    "# Return the shortest sorted list of ranges that exactly covers all the missing numbers. That is, no element of nums is included in any of the ranges, and each missing number is covered by one of the ranges.\n",
    "\n",
    "class Solution:\n",
    "    def findMissingRanges(self, nums: List[int], lower: int, upper: int) -> List[str]:\n",
    "        \n",
    "        results = []\n",
    "        \n",
    "        def generateRange(lower, upper):\n",
    "            if lower == upper:\n",
    "                return [lower]\n",
    "            else:\n",
    "                return [lower,upper]\n",
    "        \n",
    "        if not nums:\n",
    "            results.append(generateRange(lower, upper))\n",
    "            return results\n",
    "        \n",
    "        if lower < nums[0]:\n",
    "            results.append(generateRange(lower, nums[0] - 1))\n",
    "        \n",
    "        for i in range(1, len(nums)):\n",
    "            if nums[i] - nums[i-1] > 1:\n",
    "                results.append(generateRange(nums[i-1] + 1, nums[i] - 1))\n",
    "        \n",
    "        if nums[-1] < upper:\n",
    "            results.append(generateRange(nums[-1] + 1, upper))\n",
    "        \n",
    "        return results\n",
    "\n",
    "nums = [0, 1, 3, 50, 75]\n",
    "lower = 0\n",
    "upper = 99\n",
    "obj = Solution()\n",
    "result = obj.findMissingRanges(nums, lower, upper)\n",
    "print(result) "
   ]
  },
  {
   "cell_type": "code",
   "execution_count": 15,
   "metadata": {},
   "outputs": [
    {
     "name": "stdout",
     "output_type": "stream",
     "text": [
      "False\n"
     ]
    }
   ],
   "source": [
    "# Given an array of meeting time intervals where intervals[i] = [starti, endi], determine if a person could attend all meetings.\n",
    "class Solution:\n",
    "    def canAttendMeetings(self, intervals):\n",
    "        intervals.sort(key=lambda x: x[0])\n",
    "        \n",
    "        # Check for overlapping intervals\n",
    "        for i in range(1, len(intervals)):\n",
    "            if intervals[i][0] < intervals[i-1][1]:\n",
    "                return False\n",
    "        \n",
    "        return True\n",
    "    \n",
    "intervals  = [[0,30],[5,10],[15,20]]\n",
    "obj = Solution()\n",
    "result = obj.canAttendMeetings(intervals)\n",
    "print(result) "
   ]
  }
 ],
 "metadata": {
  "kernelspec": {
   "display_name": "Python 3",
   "language": "python",
   "name": "python3"
  },
  "language_info": {
   "codemirror_mode": {
    "name": "ipython",
    "version": 3
   },
   "file_extension": ".py",
   "mimetype": "text/x-python",
   "name": "python",
   "nbconvert_exporter": "python",
   "pygments_lexer": "ipython3",
   "version": "3.9.13"
  },
  "orig_nbformat": 4
 },
 "nbformat": 4,
 "nbformat_minor": 2
}
