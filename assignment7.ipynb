{
 "cells": [
  {
   "cell_type": "code",
   "execution_count": 1,
   "metadata": {},
   "outputs": [
    {
     "data": {
      "text/plain": [
       "True"
      ]
     },
     "execution_count": 1,
     "metadata": {},
     "output_type": "execute_result"
    }
   ],
   "source": [
    "# Given two strings s and t, determine if they are isomorphic.\n",
    "\n",
    "# Two strings s and t are isomorphic if the characters in s can be replaced to get t.\n",
    "\n",
    "# All occurrences of a character must be replaced with another character while preserving the order of characters. No two characters may map to the same character, but a character may map to itself.\n",
    "\n",
    "class Solution:\n",
    "    def isIsomorphic(self, s: str, t: str) -> bool:\n",
    "        return len(set(s))==len(set(t))==len(set(zip(s,t)))\n",
    "\n",
    "s = \"egg\"\n",
    "t = \"add\"    \n",
    "\n",
    "obj = Solution()\n",
    "obj.isIsomorphic(s,t)    \n"
   ]
  },
  {
   "cell_type": "code",
   "execution_count": 1,
   "metadata": {},
   "outputs": [
    {
     "data": {
      "text/plain": [
       "'134'"
      ]
     },
     "execution_count": 1,
     "metadata": {},
     "output_type": "execute_result"
    }
   ],
   "source": [
    "# Question 2\n",
    "\n",
    "# Given a string num which represents an integer, return true if num is a strobogrammatic number.\n",
    "\n",
    "# A strobogrammatic number is a number that looks the same when rotated 180 degrees (looked at upside down).\n",
    "\n",
    "class Solution:\n",
    "    def addStrings(self, num1, num2):\n",
    "        i = len(num1) - 1\n",
    "        j = len(num2) - 1\n",
    "        carry = 0\n",
    "        result = []\n",
    "\n",
    "        while i >= 0 or j >= 0 or carry > 0:\n",
    "            digit1 = int(num1[i]) if i >= 0 else 0\n",
    "            digit2 = int(num2[j]) if j >= 0 else 0\n",
    "\n",
    "            # Perform the addition\n",
    "            total = digit1 + digit2 + carry\n",
    "\n",
    "            # Update the carry\n",
    "            carry = total // 10\n",
    "\n",
    "            # Add the current digit to the result\n",
    "            result.append(str(total % 10))\n",
    "\n",
    "            # Move to the next digits\n",
    "            i -= 1\n",
    "            j -= 1\n",
    "\n",
    "        # Reverse the result and join the digits to form the final string\n",
    "        return ''.join(result[::-1])\n",
    "\n",
    "num1 = \"11\"\n",
    "num2 = \"123\"\n",
    "obj = Solution()\n",
    "obj.addStrings(num1, num2)\n"
   ]
  },
  {
   "cell_type": "code",
   "execution_count": 3,
   "metadata": {},
   "outputs": [
    {
     "data": {
      "text/plain": [
       "'134'"
      ]
     },
     "execution_count": 3,
     "metadata": {},
     "output_type": "execute_result"
    }
   ],
   "source": [
    "# Given two non-negative integers, num1 and num2 represented as string, return the sum of num1 and num2 as a string.\n",
    "\n",
    "# You must solve the problem without using any built-in library for handling large integers (such as BigInteger). You must also not convert the inputs to integers directly.\n",
    "\n",
    "class Solution:\n",
    "    def addStrings(self, num1, num2):\n",
    "        i = len(num1) - 1\n",
    "        j = len(num2) - 1\n",
    "        carry = 0\n",
    "        result = []\n",
    "\n",
    "        while i >= 0 or j >= 0 or carry > 0:\n",
    "            digit1 = int(num1[i]) if i >= 0 else 0\n",
    "            digit2 = int(num2[j]) if j >= 0 else 0\n",
    "\n",
    "            total = digit1 + digit2 + carry\n",
    "\n",
    "            carry = total // 10\n",
    "\n",
    "            result.append(str(total % 10))\n",
    "\n",
    "            i -= 1\n",
    "            j -= 1\n",
    "\n",
    "        return ''.join(result[::-1])\n",
    "\n",
    "num1 = \"11\"\n",
    "num2 = \"123\"\n",
    "\n",
    "obj = Solution()\n",
    "obj.addStrings(num1, num2)    \n"
   ]
  },
  {
   "cell_type": "code",
   "execution_count": 2,
   "metadata": {},
   "outputs": [
    {
     "data": {
      "text/plain": [
       "\"s'teL ekat edoCteeL tsetnoc\""
      ]
     },
     "execution_count": 2,
     "metadata": {},
     "output_type": "execute_result"
    }
   ],
   "source": [
    "# Question 4\n",
    "\n",
    "# Given a string s, reverse the order of characters in each word within a sentence while still preserving whitespace and initial word order.\n",
    "\n",
    "class Solution:\n",
    "    def reverseWords(self, s):        \n",
    "        words = s.split()\n",
    "\n",
    "        reversed_words = [word[::-1] for word in words]\n",
    "\n",
    "        reversed_sentence = ' '.join(reversed_words)\n",
    "\n",
    "        return reversed_sentence\n",
    "\n",
    "s = \"Let's take LeetCode contest\"\n",
    "obj = Solution()\n",
    "obj.reverseWords(s)"
   ]
  },
  {
   "cell_type": "code",
   "execution_count": 4,
   "metadata": {},
   "outputs": [
    {
     "data": {
      "text/plain": [
       "'bacdfeg'"
      ]
     },
     "execution_count": 4,
     "metadata": {},
     "output_type": "execute_result"
    }
   ],
   "source": [
    "# Given a string s and an integer k, reverse the first k characters for every 2k characters counting from the start of the string.\n",
    "\n",
    "# If there are fewer than k characters left, reverse all of them. If there are less than 2k but greater than or equal to k characters, then reverse the first k characters and leave the other as original.\n",
    "\n",
    "class Solution:\n",
    "    def reverseStr(self, s, k):\n",
    "        \n",
    "        chars = list(s)\n",
    "        n = len(chars)\n",
    "\n",
    "        for i in range(0, n, 2 * k):\n",
    "            left = i\n",
    "            right = min(i + k - 1, n - 1)\n",
    "\n",
    "            while left < right:\n",
    "                chars[left], chars[right] = chars[right], chars[left]\n",
    "                left += 1\n",
    "                right -= 1\n",
    "\n",
    "        return ''.join(chars)\n",
    "    \n",
    "s = \"abcdefg\"\n",
    "k = 2\n",
    "obj = Solution()\n",
    "obj.reverseStr(s, k)\n"
   ]
  },
  {
   "cell_type": "code",
   "execution_count": 5,
   "metadata": {},
   "outputs": [
    {
     "data": {
      "text/plain": [
       "True"
      ]
     },
     "execution_count": 5,
     "metadata": {},
     "output_type": "execute_result"
    }
   ],
   "source": [
    "# Given two strings s and goal, return true if and only if s can become goal after some number of shifts on s.\n",
    "\n",
    "# A shift on s consists of moving the leftmost character of s to the rightmost position.\n",
    "\n",
    "class Solution:\n",
    "    def rotateString(self, s, goal):\n",
    "        \n",
    "        if len(s) != len(goal):\n",
    "            return False\n",
    "\n",
    "        rotated = s + s\n",
    "\n",
    "        if goal in rotated:\n",
    "            return True\n",
    "        else:\n",
    "            return False\n",
    "\n",
    "s = \"abcde\"\n",
    "goal = \"cdeab\"\n",
    "obj = Solution()\n",
    "obj.rotateString(s, goal)"
   ]
  },
  {
   "cell_type": "code",
   "execution_count": 7,
   "metadata": {},
   "outputs": [
    {
     "data": {
      "text/plain": [
       "True"
      ]
     },
     "execution_count": 7,
     "metadata": {},
     "output_type": "execute_result"
    }
   ],
   "source": [
    "# Given two strings s and t, return true if they are equal when both are typed into empty text editors. '#' means a backspace character.\n",
    "\n",
    "# Note that after backspacing an empty text, the text will continue empty.\n",
    "\n",
    "class Solution:\n",
    "    def backspaceCompare(self, s, t):\n",
    "        idx_s = len(s) - 1\n",
    "        idx_t = len(t) - 1\n",
    "        skip_s = 0\n",
    "        skip_t = 0\n",
    "\n",
    "        while idx_s >= 0 or idx_t >= 0:\n",
    "            while idx_s >= 0:\n",
    "                if s[idx_s] == '#':\n",
    "                    skip_s += 1\n",
    "                    idx_s -= 1\n",
    "                elif skip_s > 0:\n",
    "                    skip_s -= 1\n",
    "                    idx_s -= 1\n",
    "                else:\n",
    "                    break\n",
    "\n",
    "            while idx_t >= 0:\n",
    "                if t[idx_t] == '#':\n",
    "                    skip_t += 1\n",
    "                    idx_t -= 1\n",
    "                elif skip_t > 0:\n",
    "                    skip_t -= 1\n",
    "                    idx_t -= 1\n",
    "                else:\n",
    "                    break\n",
    "\n",
    "            if idx_s >= 0 and idx_t >= 0 and s[idx_s] != t[idx_t]:\n",
    "                return False\n",
    "\n",
    "            if (idx_s >= 0) != (idx_t >= 0):\n",
    "                return False\n",
    "\n",
    "            idx_s -= 1\n",
    "            idx_t -= 1\n",
    "\n",
    "        return True\n",
    "\n",
    "\n",
    "s = \"ab#c\"\n",
    "t = \"ad#c\"\n",
    "obj = Solution()\n",
    "obj.backspaceCompare(s,t)\n",
    "\n"
   ]
  },
  {
   "cell_type": "code",
   "execution_count": 8,
   "metadata": {},
   "outputs": [
    {
     "data": {
      "text/plain": [
       "True"
      ]
     },
     "execution_count": 8,
     "metadata": {},
     "output_type": "execute_result"
    }
   ],
   "source": [
    "# You are given an array coordinates, coordinates[i] = [x, y], where [x, y] represents the coordinate of a point. Check if these points make a straight line in the XY plane.\n",
    "\n",
    "class Solution:\n",
    "    def checkStraightLine(self, coordinates):\n",
    "        x0, y0 = coordinates[0]\n",
    "        x1, y1 = coordinates[1]\n",
    "        \n",
    "        for i in range(2, len(coordinates)):\n",
    "            x, y = coordinates[i]\n",
    "            \n",
    "            # Calculate the slope between (x0, y0) and (x, y)\n",
    "            if (x1 - x0) * (y - y0) != (x - x0) * (y1 - y0):\n",
    "                return False\n",
    "        \n",
    "        return True\n",
    "\n",
    "coordinates = [[1,2],[2,3],[3,4],[4,5],[5,6],[6,7]]\n",
    "obj = Solution()\n",
    "obj.checkStraightLine(coordinates)"
   ]
  }
 ],
 "metadata": {
  "kernelspec": {
   "display_name": "base",
   "language": "python",
   "name": "python3"
  },
  "language_info": {
   "codemirror_mode": {
    "name": "ipython",
    "version": 3
   },
   "file_extension": ".py",
   "mimetype": "text/x-python",
   "name": "python",
   "nbconvert_exporter": "python",
   "pygments_lexer": "ipython3",
   "version": "3.9.13"
  },
  "orig_nbformat": 4
 },
 "nbformat": 4,
 "nbformat_minor": 2
}
