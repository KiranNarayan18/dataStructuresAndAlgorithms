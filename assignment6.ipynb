{
 "cells": [
  {
   "cell_type": "code",
   "execution_count": 6,
   "metadata": {},
   "outputs": [
    {
     "data": {
      "text/plain": [
       "[0, 4, 1, 3, 2]"
      ]
     },
     "execution_count": 6,
     "metadata": {},
     "output_type": "execute_result"
    }
   ],
   "source": [
    "# A permutation perm of n + 1 integers of all the integers in the range [0, n] can be represented as a string s of length n where:\n",
    "\n",
    "# - s[i] == 'I' if perm[i] < perm[i + 1], and\n",
    "# - s[i] == 'D' if perm[i] > perm[i + 1].\n",
    "\n",
    "# Given a strings, reconstruct the permutation perm and return it. If there are multiple valid permutations perm, return any of them.\n",
    "\n",
    "from typing import List\n",
    "\n",
    "class Solution:\n",
    "    def find_permutation(self, string:str) -> List:\n",
    "        left = 0\n",
    "        right = len(string)\n",
    "\n",
    "        perm = []\n",
    "\n",
    "        for i in string:\n",
    "            if i == 'I':\n",
    "                perm.append(left)\n",
    "                left += 1\n",
    "\n",
    "            elif i == 'D':\n",
    "                perm.append(right)\n",
    "                right -= 1\n",
    "\n",
    "        perm.append(left)\n",
    "        return perm\n",
    "\n",
    "s = \"IDID\"\n",
    "obj = Solution()\n",
    "obj.find_permutation(s)\n"
   ]
  },
  {
   "cell_type": "code",
   "execution_count": 9,
   "metadata": {},
   "outputs": [
    {
     "data": {
      "text/plain": [
       "True"
      ]
     },
     "execution_count": 9,
     "metadata": {},
     "output_type": "execute_result"
    }
   ],
   "source": [
    "# You are given an m x n integer matrix matrix with the following two properties:\n",
    "\n",
    "# - Each row is sorted in non-decreasing order.\n",
    "# - The first integer of each row is greater than the last integer of the previous row.\n",
    "\n",
    "# Given an integer target, return true if target is in matrix or false *otherwise*.\n",
    "\n",
    "# You must write a solution in O(log(m * n)) time complexity.\n",
    "\n",
    "class Solution:\n",
    "    def findElement(self, matrix: List[List[int]], target:int) -> bool:\n",
    "\n",
    "        for i in matrix:\n",
    "            if target in i:\n",
    "                return True\n",
    "\n",
    "matrix = [[1,3,5,7],[10,11,16,20],[23,30,34,60]]\n",
    "target = 30\n",
    "\n",
    "obj = Solution()\n",
    "obj.findElement(matrix, target)       \n",
    "        "
   ]
  },
  {
   "cell_type": "code",
   "execution_count": 12,
   "metadata": {},
   "outputs": [
    {
     "data": {
      "text/plain": [
       "True"
      ]
     },
     "execution_count": 12,
     "metadata": {},
     "output_type": "execute_result"
    }
   ],
   "source": [
    "# Given an array of integers arr, return true if and only if it is a valid mountain array.\n",
    "\n",
    "# Recall that arr is a mountain array if and only if:\n",
    "\n",
    "# - arr.length >= 3\n",
    "# - There exists some i with 0 < i < arr.length - 1 such that:\n",
    "#     - arr[0] < arr[1] < ... < arr[i - 1] < arr[i]\n",
    "#     - arr[i] > arr[i + 1] > ... > arr[arr.length - 1]\n",
    "from typing import List\n",
    "class Solution:\n",
    "    def validMountainArray(self, arr: List[int]) -> bool:\n",
    "        n = len(arr)\n",
    "        i = 0\n",
    "\n",
    "        if n < 3 or arr[i] >= arr[i + 1]:\n",
    "            return False\n",
    "\n",
    "\n",
    "        while i < n - 1 and arr[i] < arr[i + 1]:\n",
    "            i += 1\n",
    "            \n",
    "        if i == n - 1:\n",
    "            return False\n",
    "        \n",
    "        while i < n - 1 and arr[i] > arr[i + 1]:\n",
    "            i += 1\n",
    "\n",
    "        return i == n - 1\n",
    "    \n",
    "\n",
    "arr = [0,3,2,1]\n",
    "obj = Solution()\n",
    "obj.validMountainArray(arr)"
   ]
  },
  {
   "cell_type": "code",
   "execution_count": 13,
   "metadata": {},
   "outputs": [
    {
     "data": {
      "text/plain": [
       "2"
      ]
     },
     "execution_count": 13,
     "metadata": {},
     "output_type": "execute_result"
    }
   ],
   "source": [
    "# Given a binary array nums, return the maximum length of a contiguous subarray with an equal number of 0 and 1.\n",
    "\n",
    "class Solution:\n",
    "    def findMaxLength(self, nums: List[int]) -> int:\n",
    "        count_0 = 0\n",
    "        count_1 = 0\n",
    "        count = 0\n",
    "        di = {0: -1} \n",
    "        for i in range(len(nums)):\n",
    "            if nums[i] == 0:\n",
    "                count_0 += 1\n",
    "            else:\n",
    "                count_1 += 1\n",
    "            diff = count_1 - count_0\n",
    "            if diff in di:\n",
    "                count = max(count, i - di[diff])\n",
    "            else:\n",
    "                di[diff] = i\n",
    "        \n",
    "        return count\n",
    "    \n",
    "nums = [0,1,0]\n",
    "obj = Solution()\n",
    "obj.findMaxLength(nums)"
   ]
  },
  {
   "cell_type": "code",
   "execution_count": 15,
   "metadata": {},
   "outputs": [
    {
     "data": {
      "text/plain": [
       "40"
      ]
     },
     "execution_count": 15,
     "metadata": {},
     "output_type": "execute_result"
    }
   ],
   "source": [
    "# The product sum of two equal-length arrays a and b is equal to the sum of a[i]*b[i] for all 0 <= i < a.length (0-indexed).\n",
    "# For example, if a = [1,2,3,4] and b = [5,2,3,1], the product sum would be 15 + 22 + 33 + 41 = 22.\n",
    "\n",
    "# Given two arrays nums1 and nums2 of length n, return the minimum product sum if you are allowed to rearrange the order of the elements in nums1.\n",
    "\n",
    "class Solution:\n",
    "    def minProductSum(self, nums1: List[int], nums2: List[int]) -> int:\n",
    "        nums1.sort()\n",
    "        nums2.sort()\n",
    "        n, res = len(nums1), 0\n",
    "        for i in range(n):\n",
    "            res += nums1[i] * nums2[n - i - 1]\n",
    "        return res\n",
    "\n",
    "nums1 = [5,3,4,2]\n",
    "nums2 = [4,2,2,5]\n",
    "\n",
    "obj = Solution()\n",
    "obj.minProductSum(nums1, nums2)"
   ]
  },
  {
   "cell_type": "code",
   "execution_count": 16,
   "metadata": {},
   "outputs": [
    {
     "data": {
      "text/plain": [
       "[1, 3, 4]"
      ]
     },
     "execution_count": 16,
     "metadata": {},
     "output_type": "execute_result"
    }
   ],
   "source": [
    "# An integer array original is transformed into a doubled array changed by appending twice the value of every element in original, and then randomly shuffling the resulting array.\n",
    "\n",
    "# Given an array changed, return original if changed is a doubled array. If changed is not a doubled array, return an empty array. The elements in original *may be returned in any order.\n",
    "\n",
    "from collections import Counter\n",
    "class Solution:\n",
    "    def findOriginalArray(self, changed):\n",
    "        c = Counter(changed)\n",
    "\n",
    "        zeros, m = divmod(c[0], 2)\n",
    "        if m: return []\n",
    "        ans = [0]*zeros   \n",
    "\n",
    "        for n in sorted(c.keys()):\n",
    "            if c[n] > c[2*n]: return []\n",
    "            c[2*n]-= c[n]\n",
    "            ans.extend([n]*c[n])\n",
    "\n",
    "        return ans\n",
    "    \n",
    "changed = [1,3,4,2,6,8]\n",
    "obj = Solution()\n",
    "obj.findOriginalArray(changed)"
   ]
  },
  {
   "cell_type": "code",
   "execution_count": 17,
   "metadata": {},
   "outputs": [
    {
     "data": {
      "text/plain": [
       "[[1, 2, 3], [8, 9, 4], [7, 6, 5]]"
      ]
     },
     "execution_count": 17,
     "metadata": {},
     "output_type": "execute_result"
    }
   ],
   "source": [
    "# Given a positive integer n, generate an n x n matrix filled with elements from 1 to n2 in spiral order.\n",
    "\n",
    "class Solution:\n",
    "    def generateMatrix(self, n: int) -> List[List[int]]:\n",
    "        matrix = [[0] * n for _ in range(n)]\n",
    "        row, col, drow, dcol = 0, 0, 0, 1\n",
    "\n",
    "        for current in range(1, n*n + 1):\n",
    "            matrix[row][col] = current\n",
    "\n",
    "            if not (0 <= row + drow < n and 0 <= col + dcol < n and matrix[row + drow][col + dcol] == 0):\n",
    "                drow, dcol = dcol, -drow\n",
    "\n",
    "            row += drow\n",
    "            col += dcol\n",
    "\n",
    "        return matrix\n",
    "\n",
    "n = 3\n",
    "obj = Solution()\n",
    "obj.generateMatrix(n)"
   ]
  },
  {
   "cell_type": "code",
   "execution_count": 19,
   "metadata": {},
   "outputs": [
    {
     "data": {
      "text/plain": [
       "[[7, 0, 0], [-7, 0, 3]]"
      ]
     },
     "execution_count": 19,
     "metadata": {},
     "output_type": "execute_result"
    }
   ],
   "source": [
    "# Given two sparse matrices mat1 of size m x k and mat2 of size k x n, return the result of mat1 x mat2. You may assume that multiplication is always possible.\n",
    "\n",
    "class Solution:\n",
    "    def multiply_sparse_matrices(self, mat1, mat2):\n",
    "        m, k = len(mat1), len(mat1[0])\n",
    "        k, n = len(mat2), len(mat2[0])\n",
    "\n",
    "        # Create a result matrix of size m x n\n",
    "        result = [[0] * n for _ in range(m)]\n",
    "\n",
    "        # Perform matrix multiplication\n",
    "        for i in range(m):\n",
    "            for j in range(n):\n",
    "                for x in range(k):\n",
    "                    # Multiply non-zero elements and accumulate the result\n",
    "                    result[i][j] += mat1[i][x] * mat2[x][j]\n",
    "\n",
    "        return result\n",
    "mat1 = [[1,0,0],[-1,0,3]]\n",
    "mat2 = [[7,0,0],[0,0,0],[0,0,1]]\n",
    "obj = Solution()\n",
    "obj.multiply_sparse_matrices(mat1, mat2)"
   ]
  }
 ],
 "metadata": {
  "kernelspec": {
   "display_name": "base",
   "language": "python",
   "name": "python3"
  },
  "language_info": {
   "codemirror_mode": {
    "name": "ipython",
    "version": 3
   },
   "file_extension": ".py",
   "mimetype": "text/x-python",
   "name": "python",
   "nbconvert_exporter": "python",
   "pygments_lexer": "ipython3",
   "version": "3.9.13"
  },
  "orig_nbformat": 4
 },
 "nbformat": 4,
 "nbformat_minor": 2
}
