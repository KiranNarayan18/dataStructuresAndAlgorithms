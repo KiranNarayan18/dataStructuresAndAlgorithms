{
 "cells": [
  {
   "cell_type": "code",
   "execution_count": 7,
   "metadata": {},
   "outputs": [
    {
     "name": "stdout",
     "output_type": "stream",
     "text": [
      "[0, 1]\n"
     ]
    }
   ],
   "source": [
    "# Given an array of integers nums and an integer target, return indices of the two numbers such that they add up to target.\n",
    "\n",
    "# You may assume that each input would have exactly one solution, and you may not use the same element twice.\n",
    "\n",
    "from typing import List\n",
    "\n",
    "class Solution:\n",
    "    def twoSum(self, numbers: List[int], target: int) -> List[int]:\n",
    "        difference = {}\n",
    "        for i,j in enumerate(numbers):\n",
    "            if j in difference:                \n",
    "                return [difference[j], i]\n",
    "            \n",
    "            difference[target - j] = i\n",
    "\n",
    "        return []\n",
    "\n",
    "nums = [2, 7, 11, 15]\n",
    "target = 9\n",
    "obj = Solution()\n",
    "print(obj.twoSum(nums, target))"
   ]
  },
  {
   "cell_type": "code",
   "execution_count": 24,
   "metadata": {},
   "outputs": [
    {
     "name": "stdout",
     "output_type": "stream",
     "text": [
      "2\n",
      "[2, 2]\n"
     ]
    }
   ],
   "source": [
    "# Given an integer array nums and an integer val, remove all occurrences of val in nums in-place. The order of the elements may be changed. Then return the number of elements in nums which are not equal to val.\n",
    "\n",
    "# Consider the number of elements in nums which are not equal to val be k, to get accepted, you need to do the following things:\n",
    "\n",
    "# - Change the array nums such that the first k elements of nums contain the elements which are not equal to val. The remaining elements of nums are not important as well as the size of nums.\n",
    "# - Return k.\n",
    "\n",
    "class Solution:\n",
    "    def removeElements(self, num_list:List, k:int) -> int:\n",
    "        \n",
    "        count = 0\n",
    "        for i in range(len(num_list)):\n",
    "            \n",
    "            if num_list[i] != k:\n",
    "                num_list[count] = num_list[i]\n",
    "                count += 1\n",
    "        \n",
    "        return count, num_list\n",
    "    \n",
    "\n",
    "                \n",
    "nums = [3, 2, 2, 3]\n",
    "val = 3\n",
    "obj = Solution()\n",
    "count, result = obj.removeElements([3, 2, 2, 3], 3)\n",
    "\n",
    "print(count)  \n",
    "print(result[:count]) \n",
    "        \n",
    "        "
   ]
  },
  {
   "cell_type": "code",
   "execution_count": 33,
   "metadata": {},
   "outputs": [
    {
     "name": "stdout",
     "output_type": "stream",
     "text": [
      "2\n"
     ]
    }
   ],
   "source": [
    "#Given a sorted array of distinct integers and a target value, return the index if the target is found. If not, return the index where it would be if it were inserted in order.\n",
    "\n",
    "# You must write an algorithm with O(log n) runtime complexity.\n",
    "\n",
    "class solution:\n",
    "    def searchIndex(self, sortedList:List, targetVal:int) -> int:\n",
    "        left = 0\n",
    "        right = len(sortedList) - 1\n",
    "        \n",
    "        while left <= right:\n",
    "            mid = left + (right - left) // 2\n",
    "            if targetVal == sortedList[mid]:\n",
    "                \n",
    "                return mid\n",
    "\n",
    "            elif targetVal < sortedList[mid]:\n",
    "                right = mid - 1\n",
    "\n",
    "            else: \n",
    "                left = mid + 1\n",
    "                \n",
    "        return left\n",
    "\n",
    "\n",
    "nums = [1, 3, 5, 6]\n",
    "target = 5\n",
    "obj = solution()\n",
    "result = obj.searchIndex(nums, target)\n",
    "print(result) "
   ]
  },
  {
   "cell_type": "code",
   "execution_count": 53,
   "metadata": {},
   "outputs": [
    {
     "name": "stdout",
     "output_type": "stream",
     "text": [
      "[1, 2, 4]\n"
     ]
    }
   ],
   "source": [
    "# You are given a large integer represented as an integer array digits, where each digits[i] is the ith digit of the integer. The digits are ordered from most significant to least significant in left-to-right order. The large integer does not contain any leading 0's.\n",
    "\n",
    "# Increment the large integer by one and return the resulting array of digits.\n",
    "\n",
    "class solution:\n",
    "    def plusOne(self, intergerList:List) -> List:\n",
    "        stringVal = int(''.join(str(num) for num in intergerList)) + 1\n",
    "\n",
    "        return [int(i) for i in str(stringVal)]\n",
    "    \n",
    "\n",
    "\n",
    "digits = [1,2,3]\n",
    "obj = solution()\n",
    "result = obj.plusOne(digits)\n",
    "print(result) \n",
    "        "
   ]
  },
  {
   "cell_type": "code",
   "execution_count": 57,
   "metadata": {},
   "outputs": [
    {
     "name": "stdout",
     "output_type": "stream",
     "text": [
      "[1, 2, 2, 3, 5, 6]\n"
     ]
    }
   ],
   "source": [
    "#You are given two integer arrays nums1 and nums2, sorted in non-decreasing order, and two integers m and n, representing the number of elements in nums1 and nums2 respectively.\n",
    "\n",
    "# Merge nums1 and nums2 into a single array sorted in non-decreasing order.\n",
    "\n",
    "# The final sorted array should not be returned by the function, but instead be stored inside the array nums1. To accommodate this, nums1 has a length of m + n, where the first m elements denote the elements that should be merged, and the last n elements are set to 0 and should be ignored. nums2 has a length of n.\n",
    "\n",
    "class solution:\n",
    "    def mergeList(self, nums1: List[int], m: int, nums2: List[int], n: int) -> None:\n",
    "        p1 = m - 1\n",
    "        p2 = n - 1\n",
    "        p = m + n - 1\n",
    "        \n",
    "        while p1>=0 and p2>=0:\n",
    "            if nums1[p1] > nums2[p2]:\n",
    "                #if last element of nums1 > last element of nums2\n",
    "                #the last element of sorted array will be nums1 last ele else num2 last ele\n",
    "\n",
    "                nums1[p] = nums1[p1]\n",
    "                p1 -= 1\n",
    "\n",
    "            else:\n",
    "                nums1[p] = nums2[p2]\n",
    "                p2 -= 1\n",
    "            p -= 1\n",
    "        nums1[:p2 + 1] = nums2[:p2 + 1]\n",
    "\n",
    "nums1 = [1,2,3,0,0,0]\n",
    "m = 3\n",
    "nums2 = [2,5,6]\n",
    "n = 3\n",
    "obj = solution()\n",
    "obj.mergeList(nums1, m, nums2, n)\n",
    "print(nums1)  "
   ]
  },
  {
   "cell_type": "code",
   "execution_count": 61,
   "metadata": {},
   "outputs": [
    {
     "name": "stdout",
     "output_type": "stream",
     "text": [
      "True\n"
     ]
    }
   ],
   "source": [
    "# Given an integer array nums, return true if any value appears at least twice in the array, and return false if every element is distinct.\n",
    "\n",
    "class solution:\n",
    "    def checkDuplicates(self,nums:List) -> bool:\n",
    "        return len(nums) != len(set(nums))\n",
    "    \n",
    "nums = [1,2,3,1]\n",
    "obj = solution()\n",
    "result = obj.checkDuplicates(nums)\n",
    "print(result) "
   ]
  },
  {
   "cell_type": "code",
   "execution_count": 64,
   "metadata": {},
   "outputs": [
    {
     "name": "stdout",
     "output_type": "stream",
     "text": [
      "[1, 3, 12, 0, 0]\n"
     ]
    }
   ],
   "source": [
    "\n",
    "#Given an integer array nums, move all 0's to the end of it while maintaining the relative order of the nonzero elements.\n",
    "\n",
    "# Note that you must do this in-place without making a copy of the array.\n",
    "\n",
    "class solution:\n",
    "    def arrageElements(self, nums:List) -> None:\n",
    "        for  i in range(len(nums) - 1, -1, -1):\n",
    "            if nums[i] == 0:\n",
    "                nums.pop(i)\n",
    "                nums.append(0)\n",
    "\n",
    "nums = [0,1,0,3,12]\n",
    "obj = solution()\n",
    "obj.arrageElements(nums)\n",
    "print(nums) "
   ]
  },
  {
   "cell_type": "code",
   "execution_count": 72,
   "metadata": {},
   "outputs": [
    {
     "name": "stdout",
     "output_type": "stream",
     "text": [
      "[2, 3]\n"
     ]
    }
   ],
   "source": [
    "# You have a set of integers s, which originally contains all the numbers from 1 to n. Unfortunately, due to some error, one of the numbers in s got duplicated to another number in the set, which results in repetition of one number and loss of another number.\n",
    "\n",
    "# You are given an integer array nums representing the data status of this set after the error.\n",
    "\n",
    "# Find the number that occurs twice and the number that is missing and return them in the form of an array.\n",
    "\n",
    "class solution:\n",
    "    def findErrorNums(self, nums:List[int]) -> List[int]:\n",
    "        count = {}\n",
    "        duplicate = 0\n",
    "        missing = 0\n",
    "\n",
    "        for num in nums:\n",
    "            count[num] = count.get(num, 0) + 1\n",
    "\n",
    "        for i in range(1, len(nums) + 1):\n",
    "            if i in count:\n",
    "                if count[i] > 1:\n",
    "                    duplicate = i\n",
    "            else:\n",
    "                missing = i\n",
    "\n",
    "        if duplicate == 0:\n",
    "            return []\n",
    "\n",
    "        return [duplicate, missing]\n",
    "    \n",
    "\n",
    "nums = [1, 2, 2, 4]\n",
    "obj = solution()\n",
    "result = obj.findErrorNums(nums)\n",
    "print(result)         "
   ]
  },
  {
   "cell_type": "code",
   "execution_count": null,
   "metadata": {},
   "outputs": [],
   "source": []
  },
  {
   "cell_type": "code",
   "execution_count": null,
   "metadata": {},
   "outputs": [],
   "source": []
  },
  {
   "cell_type": "code",
   "execution_count": null,
   "metadata": {},
   "outputs": [],
   "source": []
  },
  {
   "cell_type": "code",
   "execution_count": null,
   "metadata": {},
   "outputs": [],
   "source": []
  }
 ],
 "metadata": {
  "kernelspec": {
   "display_name": "Python 3",
   "language": "python",
   "name": "python3"
  },
  "language_info": {
   "codemirror_mode": {
    "name": "ipython",
    "version": 3
   },
   "file_extension": ".py",
   "mimetype": "text/x-python",
   "name": "python",
   "nbconvert_exporter": "python",
   "pygments_lexer": "ipython3",
   "version": "3.9.13"
  },
  "orig_nbformat": 4
 },
 "nbformat": 4,
 "nbformat_minor": 2
}
