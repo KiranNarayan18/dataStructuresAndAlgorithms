{
 "cells": [
  {
   "cell_type": "code",
   "execution_count": 2,
   "metadata": {},
   "outputs": [
    {
     "data": {
      "text/plain": [
       "[[1, 2], [3, 4]]"
      ]
     },
     "execution_count": 2,
     "metadata": {},
     "output_type": "execute_result"
    }
   ],
   "source": [
    "# Convert 1D Array Into 2D Array\n",
    "\n",
    "# You are given a **0-indexed** 1-dimensional (1D) integer array original, and two integers, m and n. You are tasked with creating a 2-dimensional (2D) array with  m rows and n columns using **all** the elements from original.\n",
    "\n",
    "# The elements from indices 0 to n - 1 (**inclusive**) of original should form the first row of the constructed 2D array, the elements from indices n to 2 * n - 1 (**inclusive**) should form the second row of the constructed 2D array, and so on.\n",
    "\n",
    "# Return *an* m x n *2D array constructed according to the above procedure, or an empty 2D array if it is impossible*.\n",
    "\n",
    "class solution():\n",
    "    def convert_to_2d_array(self, original, m, n):\n",
    "        if len(original) != m * n:\n",
    "            return []\n",
    "        \n",
    "        result = [[0] * n for _ in range(m)]\n",
    "        \n",
    "        for i in range(len(original)):\n",
    "            result[i // n][i % n] = original[i]\n",
    "        \n",
    "        return result\n",
    "    \n",
    "original = [1,2,3,4]\n",
    "m = 2\n",
    "n = 2    \n",
    "\n",
    "obj = solution()\n",
    "obj.convert_to_2d_array(original, m, n)\n",
    "\n"
   ]
  },
  {
   "cell_type": "code",
   "execution_count": 3,
   "metadata": {},
   "outputs": [
    {
     "data": {
      "text/plain": [
       "2"
      ]
     },
     "execution_count": 3,
     "metadata": {},
     "output_type": "execute_result"
    }
   ],
   "source": [
    "# You have n coins and you want to build a staircase with these coins. The staircase consists of k rows where the ith row has exactly i coins. The last row of the staircase **may be** incomplete.\n",
    "\n",
    "# Given the integer n, return *the number of **complete rows** of the staircase you will build*.\n",
    "\n",
    "class solution():\n",
    "    def count_complete_rows(self, n):\n",
    "        k = 1\n",
    "        total = 0\n",
    "\n",
    "        while total + k <= n:\n",
    "            total += k\n",
    "            k += 1\n",
    "\n",
    "        return k - 1\n",
    "\n",
    "\n",
    "n = 5\n",
    "obj = solution()\n",
    "obj.count_complete_rows(n)"
   ]
  },
  {
   "cell_type": "code",
   "execution_count": 4,
   "metadata": {},
   "outputs": [
    {
     "data": {
      "text/plain": [
       "[0, 1, 9, 16, 100]"
      ]
     },
     "execution_count": 4,
     "metadata": {},
     "output_type": "execute_result"
    }
   ],
   "source": [
    "# Given an integer array nums sorted in non-decreasing order, return an array of the squares of each number sorted in non-decreasing order.\n",
    "\n",
    "class solution():\n",
    "    def sortedSquares(self, nums):\n",
    "        n = len(nums)\n",
    "        result = [0] * n\n",
    "        left, right = 0, n - 1\n",
    "\n",
    "        for i in range(n - 1, -1, -1):\n",
    "            if abs(nums[left]) >= abs(nums[right]):\n",
    "                result[i] = nums[left] ** 2\n",
    "                left += 1\n",
    "            else:\n",
    "                result[i] = nums[right] ** 2\n",
    "                right -= 1\n",
    "\n",
    "        return result\n",
    "    \n",
    "nums = [-4,-1,0,3,10]\n",
    "obj = solution()\n",
    "obj.sortedSquares(nums)\n"
   ]
  },
  {
   "cell_type": "code",
   "execution_count": 6,
   "metadata": {},
   "outputs": [
    {
     "data": {
      "text/plain": [
       "[[1, 3], [4, 6]]"
      ]
     },
     "execution_count": 6,
     "metadata": {},
     "output_type": "execute_result"
    }
   ],
   "source": [
    "# Given two **0-indexed** integer arrays nums1 and nums2, return *a list* answer *of size* 2 *where:*\n",
    "\n",
    "# - answer[0] *is a list of all **distinct** integers in* nums1 *which are **not** present in* nums2*.*\n",
    "# - answer[1] *is a list of all **distinct** integers in* nums2 *which are **not** present in* nums1.\n",
    "\n",
    "class solution():\n",
    "    def findDisappearedNumbers(self, nums1, nums2):\n",
    "        set1 = set(nums1)\n",
    "        set2 = set(nums2)\n",
    "\n",
    "        result1 = list(set1 - set2)\n",
    "        result2 = list(set2 - set1)\n",
    "\n",
    "        return [result1, result2]\n",
    "\n",
    "nums1 = [1,2,3]\n",
    "nums2 = [2,4,6]\n",
    "obj = solution()\n",
    "obj.findDisappearedNumbers(nums1, nums2)"
   ]
  },
  {
   "cell_type": "code",
   "execution_count": 7,
   "metadata": {},
   "outputs": [
    {
     "data": {
      "text/plain": [
       "2"
      ]
     },
     "execution_count": 7,
     "metadata": {},
     "output_type": "execute_result"
    }
   ],
   "source": [
    "# Given two integer arrays arr1 and arr2, and the integer d, *return the distance value between the two arrays*.\n",
    "\n",
    "# The distance value is defined as the number of elements arr1[i] such that there is not any element arr2[j] where |arr1[i]-arr2[j]| <= d.\n",
    "\n",
    "class solution():\n",
    "\n",
    "    def findDistanceValue(self, arr1, arr2, d):\n",
    "        distance = 0\n",
    "        \n",
    "        for num1 in arr1:\n",
    "            found = False\n",
    "            \n",
    "            for num2 in arr2:\n",
    "                if abs(num1 - num2) <= d:\n",
    "                    found = True\n",
    "                    break\n",
    "            \n",
    "            if not found:\n",
    "                distance += 1\n",
    "        \n",
    "        return distance\n",
    "\n",
    "arr1 = [4,5,8]\n",
    "arr2 = [10,9,1,8]\n",
    "d = 2\n",
    "\n",
    "obj = solution()\n",
    "obj.findDistanceValue(arr1, arr2, d)"
   ]
  },
  {
   "cell_type": "code",
   "execution_count": 9,
   "metadata": {},
   "outputs": [
    {
     "data": {
      "text/plain": [
       "[2, 3]"
      ]
     },
     "execution_count": 9,
     "metadata": {},
     "output_type": "execute_result"
    }
   ],
   "source": [
    "# Given an integer array nums of length n where all the integers of nums are in the range [1, n] and each integer appears **once** or **twice**, return *an array of all the integers that appears **twice***.\n",
    "\n",
    "# You must write an algorithm that runs in O(n) time and uses only constant extra space\n",
    "\n",
    "class solution():\n",
    "    def findDuplicates(self, nums):\n",
    "        result = []\n",
    "\n",
    "        for num in nums:\n",
    "            idx = abs(num) - 1\n",
    "            if nums[idx] > 0:\n",
    "                nums[idx] *= -1\n",
    "            else:\n",
    "                result.append(idx + 1)\n",
    "\n",
    "        return result\n",
    "    \n",
    "\n",
    "nums = [4,3,2,7,8,2,3,1]\n",
    "obj = solution()\n",
    "obj.findDuplicates(nums)"
   ]
  },
  {
   "cell_type": "code",
   "execution_count": 10,
   "metadata": {},
   "outputs": [
    {
     "data": {
      "text/plain": [
       "1"
      ]
     },
     "execution_count": 10,
     "metadata": {},
     "output_type": "execute_result"
    }
   ],
   "source": [
    "# Suppose an array of length n sorted in ascending order is **rotated** between 1 and n times. For example, the array nums = [0,1,2,4,5,6,7] might become:\n",
    "\n",
    "# - [4,5,6,7,0,1,2] if it was rotated 4 times.\n",
    "# - [0,1,2,4,5,6,7] if it was rotated 7 times.\n",
    "\n",
    "# Notice that **rotating** an array [a[0], a[1], a[2], ..., a[n-1]] 1 time results in the array [a[n-1], a[0], a[1], a[2], ..., a[n-2]].\n",
    "\n",
    "# Given the sorted rotated array nums of **unique** elements, return *the minimum element of this array*.\n",
    "\n",
    "# You must write an algorithm that runs in O(log n) time.\n",
    "\n",
    "class solution:\n",
    "    def findMin(self, nums):\n",
    "        left, right = 0, len(nums) - 1\n",
    "\n",
    "        while left < right:\n",
    "            mid = (left + right) // 2\n",
    "\n",
    "            if nums[mid] > nums[right]:\n",
    "                left = mid + 1\n",
    "            else:\n",
    "                right = mid\n",
    "\n",
    "        return nums[left]\n",
    "\n",
    "nums = [3,4,5,1,2]\n",
    "obj = solution()\n",
    "obj.findMin(nums)"
   ]
  },
  {
   "cell_type": "code",
   "execution_count": 13,
   "metadata": {},
   "outputs": [
    {
     "data": {
      "text/plain": [
       "[1, 3, 4]"
      ]
     },
     "execution_count": 13,
     "metadata": {},
     "output_type": "execute_result"
    }
   ],
   "source": [
    "# An integer array original is transformed into a doubled array changed by appending twice the value of every element in original, and then randomly shuffling the resulting array.\n",
    "\n",
    "# Given an array changed, return original if changed is a doubled array. If changed is not a doubled array, return an empty array. The elements in original *may be returned in any order\n",
    "\n",
    "import collections\n",
    "\n",
    "class solution:\n",
    "    def findOriginalArray(self, changed):\n",
    "        count = collections.Counter(changed)\n",
    "        original = []\n",
    "\n",
    "        for num in sorted(changed):\n",
    "            if count[num] == 0:\n",
    "                continue\n",
    "            \n",
    "            count[num] -= 1\n",
    "            if count[num*2] == 0:\n",
    "                return []\n",
    "            \n",
    "            count[num*2] -= 1\n",
    "            original.append(num)\n",
    "        \n",
    "        return original\n",
    "\n",
    "changed = [1,3,4,2,6,8]\n",
    "obj = solution()\n",
    "obj.findOriginalArray(changed)"
   ]
  }
 ],
 "metadata": {
  "kernelspec": {
   "display_name": "base",
   "language": "python",
   "name": "python3"
  },
  "language_info": {
   "codemirror_mode": {
    "name": "ipython",
    "version": 3
   },
   "file_extension": ".py",
   "mimetype": "text/x-python",
   "name": "python",
   "nbconvert_exporter": "python",
   "pygments_lexer": "ipython3",
   "version": "3.9.13"
  },
  "orig_nbformat": 4
 },
 "nbformat": 4,
 "nbformat_minor": 2
}
