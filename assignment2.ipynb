{
 "cells": [
  {
   "cell_type": "code",
   "execution_count": 3,
   "metadata": {},
   "outputs": [
    {
     "name": "stdout",
     "output_type": "stream",
     "text": [
      "4\n"
     ]
    }
   ],
   "source": [
    "# Given an integer array nums of 2n integers, group these integers into n pairs (a1, b1), (a2, b2),..., (an, bn) such that the sum of min(ai, bi) for all i is maximized. Return the maximized sum.\n",
    "\n",
    "from typing import List\n",
    "class Solution:\n",
    "    def arrayPairSum(self, nums: List[int]) -> int:\n",
    "        nums.sort()\n",
    "        max_sum = 0\n",
    "\n",
    "        for i in range(0, len(nums), 2):            \n",
    "            max_sum += min(nums[i], nums[i+1])\n",
    "\n",
    "        return max_sum\n",
    "    \n",
    "nums = [1, 4, 3, 2]\n",
    "obj = Solution()\n",
    "result = obj.arrayPairSum(nums)\n",
    "print(result)  "
   ]
  },
  {
   "cell_type": "code",
   "execution_count": 4,
   "metadata": {},
   "outputs": [
    {
     "name": "stdout",
     "output_type": "stream",
     "text": [
      "3\n"
     ]
    }
   ],
   "source": [
    "# Alice has n candies, where the ith candy is of type candyType[i]. Alice noticed that she started to gain weight, so she visited a doctor. \n",
    "\n",
    "# The doctor advised Alice to only eat n / 2 of the candies she has (n is always even). Alice likes her candies very much, and she wants to eat the maximum number of different types of candies while still following the doctor's advice. \n",
    "\n",
    "# Given the integer array candyType of length n, return the maximum number of different types of candies she can eat if she only eats n / 2 of them.\n",
    "\n",
    "\n",
    "class Solution:\n",
    "    def distributeCandies(self, candyType: List[int]) -> int:\n",
    "        unique_candies = set(candyType)\n",
    "        max_types = min(len(unique_candies), len(candyType) // 2)\n",
    "\n",
    "        return max_types\n",
    "    \n",
    "candyType = [1, 1, 2, 2, 3, 3]\n",
    "obj = Solution()\n",
    "result = obj.distributeCandies(candyType)\n",
    "print(result)"
   ]
  },
  {
   "cell_type": "code",
   "execution_count": 18,
   "metadata": {},
   "outputs": [
    {
     "name": "stdout",
     "output_type": "stream",
     "text": [
      "6\n"
     ]
    }
   ],
   "source": [
    "# We define a harmonious array as an array where the difference between its maximum value and its minimum value is exactly 1.\n",
    "\n",
    "# Given an integer array nums, return the length of its longest harmonious subsequence among all its possible subsequences.\n",
    "\n",
    "# A subsequence of an array is a sequence that can be derived from the array by deleting some or no elements without changing the order of the remaining elements.\n",
    "from typing import List\n",
    "\n",
    "class Solution:\n",
    "    def findLHS(self, nums: List[int]) -> int:\n",
    "        numCounts = {}\n",
    "        maxLen = 0\n",
    "\n",
    "        for num in nums:\n",
    "            if num in numCounts:\n",
    "                numCounts[num] += 1 \n",
    "            else:\n",
    "                numCounts[num] = 1\n",
    "\n",
    "            if num + 1 in numCounts:\n",
    "                maxLen = max(maxLen, numCounts[num] + numCounts[num + 1])\n",
    "            if num - 1 in numCounts:\n",
    "                maxLen = max(maxLen, numCounts[num] + numCounts[num - 1])\n",
    "\n",
    "        return maxLen\n",
    "    \n",
    "nums = [1, 3, 2, 2, 5, 2,2, 3, 7]\n",
    "\n",
    "obj = Solution()\n",
    "result = obj.findLHS(nums)\n",
    "print(result)"
   ]
  },
  {
   "cell_type": "code",
   "execution_count": 25,
   "metadata": {},
   "outputs": [
    {
     "name": "stdout",
     "output_type": "stream",
     "text": [
      "True\n"
     ]
    }
   ],
   "source": [
    "# You have a long flowerbed in which some of the plots are planted, and some are not. However, flowers cannot be planted in adjacent plots. Given an integer array flowerbed containing 0's and 1's, where 0 means empty and 1 means not empty, and an integer n, return true if n new flowers can be planted in the flowerbed without violating the no-adjacent-flowers rule and false otherwise\n",
    "\n",
    "class Solution:\n",
    "    def canPlaceFlowers(self, flowerbed: List[int], n: int) -> bool:\n",
    "        flowerbed_len = len(flowerbed)\n",
    "        num_of_flowers = 0\n",
    "        for i in range(flowerbed_len):\n",
    "            if flowerbed[i] == 0 and (i==0 or flowerbed[i-1]==0) and (i == flowerbed_len - 1 or flowerbed[i + 1] == 0 ):\n",
    "            \n",
    "                flowerbed[i] = 1\n",
    "                num_of_flowers += 1\n",
    "\n",
    "                if num_of_flowers >= n:\n",
    "                    return True\n",
    "                \n",
    "        return num_of_flowers >= n\n",
    "    \n",
    "\n",
    "flowerbed = [1, 0, 1, 0, 1, 0, 1]\n",
    "n = 0\n",
    "\n",
    "obj = Solution()\n",
    "result = obj.canPlaceFlowers(nums, n)\n",
    "print(result)"
   ]
  },
  {
   "cell_type": "code",
   "execution_count": 26,
   "metadata": {},
   "outputs": [
    {
     "name": "stdout",
     "output_type": "stream",
     "text": [
      "24\n"
     ]
    }
   ],
   "source": [
    "# Given an integer array nums, find three numbers whose product is maximum and return the maximum product. \n",
    "\n",
    "class Solution:\n",
    "    def maximumProduct(self, nums: List[int]) -> int:\n",
    "        nums.sort()\n",
    "        #nums[0] * nums[1] * nums[-1] if last two numbers are negative \n",
    "        #two negative numbers will become positive and we are multiplying it with largest positive number\n",
    "        return  max(nums[-1] * nums[-2] * nums[-3], nums[0] * nums[1] * nums[-1])\n",
    "    \n",
    "\n",
    "nums = [1, 2, 3, 4]\n",
    "\n",
    "obj = Solution()\n",
    "result = obj.maximumProduct(nums)\n",
    "print(result)"
   ]
  },
  {
   "cell_type": "code",
   "execution_count": 27,
   "metadata": {},
   "outputs": [
    {
     "name": "stdout",
     "output_type": "stream",
     "text": [
      "4\n"
     ]
    }
   ],
   "source": [
    "# Given an array of integers nums which is sorted in ascending order, and an integer target, write a function to search target in nums. If target exists, then return its index. Otherwise, return -1.\n",
    "\n",
    "# You must write an algorithm with O(log n) runtime complexity.\n",
    "\n",
    "class Solution:\n",
    "    def search(self, nums: List[int], target: int) -> int:\n",
    "        left = 0\n",
    "        right = len(nums) - 1\n",
    "\n",
    "        while left <= right:\n",
    "            mid = (left + right) // 2\n",
    "                    \n",
    "            if nums[mid] == target:\n",
    "                return mid\n",
    "            elif nums[mid] < target:\n",
    "                left = mid + 1\n",
    "            else:\n",
    "                right = mid - 1\n",
    "\n",
    "        return -1\n",
    "    \n",
    "nums = [-1, 0, 3, 5, 9, 12]\n",
    "obj = Solution()\n",
    "target = 9\n",
    "result = obj.search(nums, target)\n",
    "print(result)"
   ]
  },
  {
   "cell_type": "code",
   "execution_count": 30,
   "metadata": {},
   "outputs": [
    {
     "name": "stdout",
     "output_type": "stream",
     "text": [
      "True\n"
     ]
    }
   ],
   "source": [
    "# An array is monotonic if it is either monotone increasing or monotone decreasing.\n",
    "\n",
    "# An array nums is monotone increasing if for all i <= j, nums[i] <= nums[j]. An array nums is monotone decreasing if for all i <= j, nums[i] >= nums[j].\n",
    "\n",
    "# Given an integer array nums, return true if the given array is monotonic, or false otherwise.\n",
    "\n",
    "class Solution:\n",
    "    def isMonotonic(self, nums: List[int]) -> bool:\n",
    "        increasing = True\n",
    "        decreasing = True\n",
    "\n",
    "        for i in range(len(nums)-1):\n",
    "            if nums[i] > nums[i+1]:\n",
    "                #it is decreasing\n",
    "                increasing = False\n",
    "            elif nums[i] < nums[i+1]:\n",
    "                decreasing = False\n",
    "\n",
    "            if not increasing and not decreasing:\n",
    "                #if both increasing and decreasing is False\n",
    "                return False\n",
    "            \n",
    "        return True\n",
    "\n",
    "\n",
    "nums = [1,2,2,3]\n",
    "obj = Solution()\n",
    "result = obj.isMonotonic(nums)\n",
    "print(result)"
   ]
  },
  {
   "cell_type": "code",
   "execution_count": 34,
   "metadata": {},
   "outputs": [
    {
     "name": "stdout",
     "output_type": "stream",
     "text": [
      "0\n"
     ]
    }
   ],
   "source": [
    "# You are given an integer array nums and an integer k.\n",
    "\n",
    "# In one operation, you can choose any index i where 0 <= i < nums.length and change nums[i] to nums[i] + x where x is an integer from the range [-k, k]. You can apply this operation at most once for each index i.\n",
    "\n",
    "# The score of nums is the difference between the maximum and minimum elements in nums.\n",
    "\n",
    "# Return the minimum score of nums after applying the mentioned operation at most once for each index in it.\n",
    "\n",
    "class Solution:\n",
    "    def smallestRangeI(self, nums: List[int], k: int) -> int:\n",
    "        return max(0, max(nums) - min(nums) - 2 * k)\n",
    "\n",
    "nums = [1]\n",
    "k = 0\n",
    "obj = Solution()\n",
    "result = obj.smallestRangeI(nums,k)\n",
    "print(result)"
   ]
  },
  {
   "cell_type": "code",
   "execution_count": 32,
   "metadata": {},
   "outputs": [
    {
     "data": {
      "text/plain": [
       "[0, 0, 0, 0, 0]"
      ]
     },
     "execution_count": 32,
     "metadata": {},
     "output_type": "execute_result"
    }
   ],
   "source": []
  }
 ],
 "metadata": {
  "kernelspec": {
   "display_name": "Python 3",
   "language": "python",
   "name": "python3"
  },
  "language_info": {
   "codemirror_mode": {
    "name": "ipython",
    "version": 3
   },
   "file_extension": ".py",
   "mimetype": "text/x-python",
   "name": "python",
   "nbconvert_exporter": "python",
   "pygments_lexer": "ipython3",
   "version": "3.9.13"
  },
  "orig_nbformat": 4
 },
 "nbformat": 4,
 "nbformat_minor": 2
}
