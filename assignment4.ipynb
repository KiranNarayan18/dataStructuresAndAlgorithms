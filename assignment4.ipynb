{
 "cells": [
  {
   "cell_type": "code",
   "execution_count": 1,
   "metadata": {},
   "outputs": [
    {
     "name": "stdout",
     "output_type": "stream",
     "text": [
      "[1, 5]\n"
     ]
    }
   ],
   "source": [
    "# Given three integer arrays arr1, arr2 and arr3 sorted in strictly increasing order, return a sorted array of only the integers that appeared in all three arrays.\n",
    "from typing import List\n",
    "\n",
    "class Solution:\n",
    "    def findCommonArray(self, array1:List, array2:List, array3:List):        \n",
    "        result = []\n",
    "        i = j = k = 0\n",
    "        while i < len(array1) and j < len(array2) and k < len(array3):\n",
    "            if array1[i] == array2[j] == array3[k]:\n",
    "                result.append(array1[i])\n",
    "                i += 1\n",
    "                j += 1\n",
    "                k += 1\n",
    "            elif array1[i] < array2[j]:\n",
    "                i += 1\n",
    "            elif array2[j] < array3[k]:\n",
    "                j += 1\n",
    "            else:\n",
    "                k += 1\n",
    "\n",
    "        return result\n",
    "\n",
    "arr1 = [1,2,3,4,5]\n",
    "arr2 = [1,2,5,7,9]\n",
    "arr3 = [1,3,4,5,8]\n",
    "\n",
    "obj = Solution()\n",
    "print(obj.findCommonArray(arr1, arr2, arr3))"
   ]
  },
  {
   "cell_type": "code",
   "execution_count": 3,
   "metadata": {},
   "outputs": [
    {
     "data": {
      "text/plain": [
       "[[1, 3], [4, 6]]"
      ]
     },
     "execution_count": 3,
     "metadata": {},
     "output_type": "execute_result"
    }
   ],
   "source": [
    "# Given two 0-indexed integer arrays nums1 and nums2, return a list answer of size 2 where:\n",
    "\n",
    "# answer[0] is a list of all distinct integers in nums1 which are not present in nums2.\n",
    "# answer[1] is a list of all distinct integers in nums2 which are not present in nums1.\n",
    "\n",
    "class Solution:\n",
    "    def findDisjointArrays(self, nums1, nums2):\n",
    "        set1 = set(nums1)\n",
    "        set2 = set(nums2)\n",
    "        \n",
    "        distinct_nums1 = list(set1 - set2)\n",
    "        distinct_nums2 = list(set2 - set1)\n",
    "        \n",
    "        return [distinct_nums1, distinct_nums2]\n",
    "\n",
    "nums1 = [1,2,3]\n",
    "nums2 = [2,4,6]\n",
    "\n",
    "obj = Solution()\n",
    "obj.findDisjointArrays(nums1, nums2)\n"
   ]
  },
  {
   "cell_type": "code",
   "execution_count": 5,
   "metadata": {},
   "outputs": [
    {
     "data": {
      "text/plain": [
       "[[1, 4, 7], [2, 5, 8], [3, 6, 9]]"
      ]
     },
     "execution_count": 5,
     "metadata": {},
     "output_type": "execute_result"
    }
   ],
   "source": [
    "# Given a 2D integer array matrix, return the transpose of matrix.\n",
    "\n",
    "# The transpose of a matrix is the matrix flipped over its main diagonal, switching the matrix's row and column indices.\n",
    "\n",
    "class Solution:\n",
    "    def transpose(self, matrix):\n",
    "        rows = len(matrix)\n",
    "        cols = len(matrix[0])\n",
    "        \n",
    "        transposed = [[0] * rows for _ in range(cols)]\n",
    "        \n",
    "        for i in range(rows):\n",
    "            for j in range(cols):\n",
    "                transposed[j][i] = matrix[i][j]\n",
    "        \n",
    "        return transposed\n",
    "\n",
    "matrix = [[1,2,3],[4,5,6],[7,8,9]]\n",
    "obj = Solution()\n",
    "obj.transpose(matrix)"
   ]
  },
  {
   "cell_type": "code",
   "execution_count": 6,
   "metadata": {},
   "outputs": [
    {
     "data": {
      "text/plain": [
       "4"
      ]
     },
     "execution_count": 6,
     "metadata": {},
     "output_type": "execute_result"
    }
   ],
   "source": [
    "# Given an integer array nums of 2n integers, group these integers into n pairs (a1, b1), (a2, b2), ..., (an, bn) such that the sum of min(ai, bi) for all i is maximized. Return the maximized sum.\n",
    "\n",
    "class Solution:\n",
    "    def arrayPairSum(self, nums):\n",
    "\n",
    "        nums.sort()\n",
    "        n = len(nums)\n",
    "        max_sum = 0\n",
    "\n",
    "        for i in range(0, n, 2):\n",
    "            max_sum += nums[i]\n",
    "\n",
    "        return max_sum\n",
    "    \n",
    "nums = [1,4,3,2]\n",
    "obj = Solution()\n",
    "obj.arrayPairSum(nums)\n"
   ]
  },
  {
   "cell_type": "code",
   "execution_count": 8,
   "metadata": {},
   "outputs": [
    {
     "data": {
      "text/plain": [
       "2"
      ]
     },
     "execution_count": 8,
     "metadata": {},
     "output_type": "execute_result"
    }
   ],
   "source": [
    "#You have n coins and you want to build a staircase with these coins. The staircase consists of k rows where the ith row has exactly i coins. The last row of the staircase may be incomplete.\n",
    "\n",
    "# Given the integer n, return the number of complete rows of the staircase you will build.\n",
    "\n",
    "class Solution:\n",
    "    def arrangeCoins(self, n):\n",
    "        left = 0\n",
    "        right = n\n",
    "\n",
    "        while left <= right:\n",
    "            mid = left + (right - left) // 2\n",
    "            coins_needed = (mid * (mid + 1)) // 2\n",
    "\n",
    "            if coins_needed == n:\n",
    "                return mid\n",
    "            elif coins_needed < n:\n",
    "                left = mid + 1\n",
    "            else:\n",
    "                right = mid - 1\n",
    "\n",
    "        return right\n",
    "\n",
    "n = 5\n",
    "obj = Solution()\n",
    "obj.arrangeCoins(n)"
   ]
  },
  {
   "cell_type": "code",
   "execution_count": 10,
   "metadata": {},
   "outputs": [
    {
     "data": {
      "text/plain": [
       "[0, 1, 9, 16, 100]"
      ]
     },
     "execution_count": 10,
     "metadata": {},
     "output_type": "execute_result"
    }
   ],
   "source": [
    "# Given an integer array nums sorted in non-decreasing order, return an array of the squares of each number sorted in non-decreasing order.\n",
    "\n",
    "class Solution:\n",
    "    def squareTheList(self, nums):\n",
    "        nums = sorted([i**2 for i in nums])\n",
    "        return nums\n",
    "    \n",
    "nums = [-4,-1,0,3,10]\n",
    "obj = Solution()\n",
    "obj.squareTheList(nums)"
   ]
  },
  {
   "cell_type": "code",
   "execution_count": 13,
   "metadata": {},
   "outputs": [
    {
     "data": {
      "text/plain": [
       "4"
      ]
     },
     "execution_count": 13,
     "metadata": {},
     "output_type": "execute_result"
    }
   ],
   "source": [
    "# You are given an m x n matrix M initialized with all 0's and an array of operations ops, where ops[i] = [ai, bi] means M[x][y] should be incremented by one for all 0 <= x < ai and 0 <= y < bi.\n",
    "\n",
    "class Solution:\n",
    "    def maxCount(self, m: int, n: int, ops: List[List[int]]) -> int:\n",
    "        min_row = m\n",
    "        min_col = n\n",
    "\n",
    "        for op in ops:\n",
    "            min_row = min(min_row, op[0])\n",
    "            min_col = min(min_col, op[1])\n",
    "\n",
    "        return min_row * min_col\n",
    "\n",
    "\n",
    "m = 3\n",
    "n = 3\n",
    "ops = [[2,2],[3,3]]\n",
    "\n",
    "obj = Solution()\n",
    "obj.maxCount(m, n, ops)"
   ]
  },
  {
   "cell_type": "code",
   "execution_count": 16,
   "metadata": {},
   "outputs": [
    {
     "data": {
      "text/plain": [
       "[2, 3, 5, 4, 1, 7]"
      ]
     },
     "execution_count": 16,
     "metadata": {},
     "output_type": "execute_result"
    }
   ],
   "source": [
    "# Given the array nums consisting of 2n elements in the form [x1,x2,...,xn,y1,y2,...,yn].\n",
    "\n",
    "# Return the array in the form* [x1,y1,x2,y2,...,xn,yn].\n",
    "\n",
    "class Solution:\n",
    "    def rearrangeArray(self, nums: List[int]) -> List[int]:\n",
    "        n = len(nums) // 2\n",
    "        rearranged = []\n",
    "\n",
    "        for i in range(n):\n",
    "            rearranged.append(nums[i])\n",
    "            rearranged.append(nums[i + n])\n",
    "\n",
    "        return rearranged\n",
    "        \n",
    "\n",
    "nums = [2,5,1,3,4,7]\n",
    "\n",
    "obj = Solution()\n",
    "obj.rearrangeArray(nums)"
   ]
  }
 ],
 "metadata": {
  "kernelspec": {
   "display_name": "base",
   "language": "python",
   "name": "python3"
  },
  "language_info": {
   "codemirror_mode": {
    "name": "ipython",
    "version": 3
   },
   "file_extension": ".py",
   "mimetype": "text/x-python",
   "name": "python",
   "nbconvert_exporter": "python",
   "pygments_lexer": "ipython3",
   "version": "3.9.13"
  },
  "orig_nbformat": 4
 },
 "nbformat": 4,
 "nbformat_minor": 2
}
